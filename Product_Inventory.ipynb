{
 "cells": [
  {
   "cell_type": "markdown",
   "metadata": {},
   "source": [
    "**UDEMY Product Inventory Project** - Create an application which manages an inventory of products. Create a product class which has a price, id, and quantity on hand. Then create an *inventory* class which keeps track of various products and can sum up the inventory value.\n"
   ]
  },
  {
   "cell_type": "code",
   "execution_count": 187,
   "metadata": {},
   "outputs": [],
   "source": [
    "from IPython.display import clear_output"
   ]
  },
  {
   "cell_type": "code",
   "execution_count": 185,
   "metadata": {},
   "outputs": [],
   "source": [
    "class Product():\n",
    "    \n",
    "    def __init__ (self, id_number, quantity, price):\n",
    "        \n",
    "        self.id = id_number\n",
    "        self.quantity = quantity\n",
    "        self.price = price\n",
    "            \n",
    "    def detail (self):\n",
    "        return self.id, self.quantity, self.price"
   ]
  },
  {
   "cell_type": "code",
   "execution_count": 186,
   "metadata": {},
   "outputs": [],
   "source": [
    "class Inventory():\n",
    "\n",
    "    def __init__(self):\n",
    "    \n",
    "        # list of item id's\n",
    "        self.items = []\n",
    "        self.value = 0\n",
    "    \n",
    "    # Adding a Product to Inventory            \n",
    "    def add_product (self, new_product):\n",
    "        self.items.append(new_product)\n",
    "         \n",
    "    # Calculate the new value of the inventory\n",
    "    def calculate_value(self):\n",
    "        \n",
    "        for item in self.items:\n",
    "            \n",
    "            # multiplying number of product units by price/unit\n",
    "            self.value += item[1]*item[2]           \n",
    "            "
   ]
  },
  {
   "cell_type": "code",
   "execution_count": 189,
   "metadata": {},
   "outputs": [
    {
     "name": "stdin",
     "output_type": "stream",
     "text": [
      "Do you need to add a product (Y or N): n\n"
     ]
    },
    {
     "name": "stdout",
     "output_type": "stream",
     "text": [
      "The value of your inventory is: 630.0\n"
     ]
    }
   ],
   "source": [
    "my_inventory = Inventory()\n",
    "\n",
    "while True:\n",
    "    # to clear the latest customer inputs when asking for a new product \n",
    "    clear_output()\n",
    "    adding = input('Do you need to add a product (Y or N):').upper()\n",
    "    \n",
    "    if adding == 'Y':\n",
    "        \n",
    "        product_id = input(\"Enter Product ID:\")\n",
    "        product_quantity = int(input(\"Enter Product Quantity:\"))\n",
    "        product_price = float(input(\"Enter Product Price/Unit:\"))\n",
    "        product = Product(product_id, product_quantity, product_price)\n",
    "\n",
    "        my_inventory.add_product(product.detail())\n",
    "        \n",
    "    else:\n",
    "        break\n",
    "        \n",
    "my_inventory.calculate_value()\n",
    "print(f'The value of your inventory is: {my_inventory.value}')"
   ]
  }
 ],
 "metadata": {
  "kernelspec": {
   "display_name": "Python 3",
   "language": "python",
   "name": "python3"
  },
  "language_info": {
   "codemirror_mode": {
    "name": "ipython",
    "version": 3
   },
   "file_extension": ".py",
   "mimetype": "text/x-python",
   "name": "python",
   "nbconvert_exporter": "python",
   "pygments_lexer": "ipython3",
   "version": "3.8.5"
  }
 },
 "nbformat": 4,
 "nbformat_minor": 4
}
