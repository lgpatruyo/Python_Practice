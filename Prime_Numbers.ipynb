{
 "cells": [
  {
   "cell_type": "markdown",
   "metadata": {},
   "source": [
    "**Next Prime Number** - Have the program find prime numbers until the user chooses to stop asking for the next one."
   ]
  },
  {
   "cell_type": "code",
   "execution_count": 21,
   "metadata": {},
   "outputs": [],
   "source": [
    "def is_prime(number):\n",
    "    \n",
    "    check = [2,3,5,7]\n",
    "    \n",
    "    # Creating a list of modulus from division of provided number by first four prime number. \n",
    "    # If 0 is in the modulus list, then provided number is not a prime number\n",
    "    modulus_list = [number%item for item in check]\n",
    "    if number in check:\n",
    "        #print(number)\n",
    "        return True\n",
    "    \n",
    "    elif (number not in check) and (0 not in modulus_list):\n",
    "        #print(number)\n",
    "        return True\n",
    "    \n",
    "    else:\n",
    "        return False   "
   ]
  },
  {
   "cell_type": "code",
   "execution_count": 22,
   "metadata": {},
   "outputs": [
    {
     "name": "stdin",
     "output_type": "stream",
     "text": [
      "Would you like to get the next prime number: Y or N y\n"
     ]
    },
    {
     "name": "stdout",
     "output_type": "stream",
     "text": [
      "2\n"
     ]
    },
    {
     "name": "stdin",
     "output_type": "stream",
     "text": [
      "Would you like to get the next prime number: Y or N y\n"
     ]
    },
    {
     "name": "stdout",
     "output_type": "stream",
     "text": [
      "3\n"
     ]
    },
    {
     "name": "stdin",
     "output_type": "stream",
     "text": [
      "Would you like to get the next prime number: Y or N y\n"
     ]
    },
    {
     "name": "stdout",
     "output_type": "stream",
     "text": [
      "5\n"
     ]
    },
    {
     "name": "stdin",
     "output_type": "stream",
     "text": [
      "Would you like to get the next prime number: Y or N y\n"
     ]
    },
    {
     "name": "stdout",
     "output_type": "stream",
     "text": [
      "7\n"
     ]
    },
    {
     "name": "stdin",
     "output_type": "stream",
     "text": [
      "Would you like to get the next prime number: Y or N y\n"
     ]
    },
    {
     "name": "stdout",
     "output_type": "stream",
     "text": [
      "11\n"
     ]
    },
    {
     "name": "stdin",
     "output_type": "stream",
     "text": [
      "Would you like to get the next prime number: Y or N y\n"
     ]
    },
    {
     "name": "stdout",
     "output_type": "stream",
     "text": [
      "13\n"
     ]
    },
    {
     "name": "stdin",
     "output_type": "stream",
     "text": [
      "Would you like to get the next prime number: Y or N n\n"
     ]
    },
    {
     "name": "stdout",
     "output_type": "stream",
     "text": [
      "Thanks!\n"
     ]
    }
   ],
   "source": [
    "# Starting with 2. Number 1 is not a prime number\n",
    "\n",
    "number = 2\n",
    "\n",
    "while True:\n",
    "       \n",
    "    user = input('Would you like to get the next prime number: Y or N').upper()\n",
    "    if user == 'Y':   \n",
    "        \n",
    "        while True:\n",
    "\n",
    "            if is_prime(number):\n",
    "                print(number)\n",
    "                break\n",
    "            else:\n",
    "                number += 1    \n",
    "        \n",
    "        number += 1\n",
    "    \n",
    "    else:\n",
    "        print('Thanks!')\n",
    "        break"
   ]
  },
  {
   "cell_type": "code",
   "execution_count": null,
   "metadata": {},
   "outputs": [],
   "source": []
  }
 ],
 "metadata": {
  "kernelspec": {
   "display_name": "Python 3",
   "language": "python",
   "name": "python3"
  },
  "language_info": {
   "codemirror_mode": {
    "name": "ipython",
    "version": 3
   },
   "file_extension": ".py",
   "mimetype": "text/x-python",
   "name": "python",
   "nbconvert_exporter": "python",
   "pygments_lexer": "ipython3",
   "version": "3.8.5"
  }
 },
 "nbformat": 4,
 "nbformat_minor": 4
}
